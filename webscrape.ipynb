{
 "cells": [
  {
   "cell_type": "code",
   "execution_count": 1,
   "metadata": {},
   "outputs": [],
   "source": [
    "import requests\n",
    "from bs4 import BeautifulSoup\n",
    "import bs4\n",
    "import pandas as pd\n",
    "import re\n",
    "import json"
   ]
  },
  {
   "cell_type": "markdown",
   "metadata": {},
   "source": [
    "# function for gathering all the links for every rental object on search result page"
   ]
  },
  {
   "cell_type": "code",
   "execution_count": 3,
   "metadata": {},
   "outputs": [],
   "source": [
    "def object_details_links(links):\n",
    "    links_str = str(links)\n",
    "    links_str = links_str.replace('href=\"','')  \n",
    "    hrefs = re.findall('\\/angebot\\/\\d{6,9}', links_str)\n",
    "    hrefs = set(hrefs)\n",
    "    base_url_details = \"https://www.immonet.de\"\n",
    "    full_url_details = [base_url_details + i for i in hrefs]\n",
    "    return full_url_details"
   ]
  },
  {
   "cell_type": "markdown",
   "metadata": {},
   "source": [
    "# loop for putting the links from every search result into one list"
   ]
  },
  {
   "cell_type": "code",
   "execution_count": 27,
   "metadata": {},
   "outputs": [],
   "source": [
    "num = range(1,43)\n",
    "full_list = []\n",
    "for i in num:\n",
    "    url = f\"https://www.immonet.de/berlin/wohnung-mieten-seite{i}.html\"\n",
    "    response = requests.get(url)\n",
    "    soup = BeautifulSoup(response.content, \"html.parser\")\n",
    "    links = (soup.find_all('a', class_=\"flex-grow-1 display-flex\"))\n",
    "    x = object_details_links(links)\n",
    "    full_list += x"
   ]
  },
  {
   "cell_type": "markdown",
   "metadata": {},
   "source": [
    "# checking the length of the list for potential error and cleaning the list of potential duplicate links with set()"
   ]
  },
  {
   "cell_type": "code",
   "execution_count": 28,
   "metadata": {},
   "outputs": [
    {
     "data": {
      "text/plain": [
       "1062"
      ]
     },
     "execution_count": 28,
     "metadata": {},
     "output_type": "execute_result"
    }
   ],
   "source": [
    "len(full_list)"
   ]
  },
  {
   "cell_type": "code",
   "execution_count": 29,
   "metadata": {},
   "outputs": [],
   "source": [
    "full_list = set(full_list)"
   ]
  },
  {
   "cell_type": "code",
   "execution_count": 30,
   "metadata": {},
   "outputs": [
    {
     "data": {
      "text/plain": [
       "1062"
      ]
     },
     "execution_count": 30,
     "metadata": {},
     "output_type": "execute_result"
    }
   ],
   "source": [
    "len(full_list)"
   ]
  },
  {
   "cell_type": "markdown",
   "metadata": {},
   "source": [
    "# definining empty lists for the storing column information later used in pandas"
   ]
  },
  {
   "cell_type": "code",
   "execution_count": 31,
   "metadata": {},
   "outputs": [],
   "source": [
    "descriptionL =[]\n",
    "adressL=[]\n",
    "zip_codeL=[]\n",
    "price_coldL=[]\n",
    "price_warmL=[]\n",
    "depositL=[]\n",
    "roomsL=[]\n",
    "areaL=[]\n",
    "yearbuildL=[]\n",
    "objecturl=[]"
   ]
  },
  {
   "cell_type": "markdown",
   "metadata": {},
   "source": [
    "# functions for gathering the data on rental object pages"
   ]
  },
  {
   "cell_type": "code",
   "execution_count": 33,
   "metadata": {},
   "outputs": [],
   "source": [
    "def writedes():\n",
    "    try:\n",
    "        description = (soup.find('h1', id=\"expose-headline\").text)\n",
    "        description = description.replace('.',\"\")\n",
    "        description = description.strip()\n",
    "        descriptionL.append(description)\n",
    "    except:\n",
    "        descriptionL.append('NA')\n",
    "     #   print(url)\n",
    "     #   print('description error')\n",
    "\n",
    "def writeadr():    \n",
    "    try:\n",
    "        adress = (soup.find('p', class_=\"text-100 pull-left\").text)\n",
    "        adress = adress.replace('\\t','')\n",
    "        adress = adress.replace('\\n',' ')\n",
    "        adress = adress.replace('\\xa0','')\n",
    "        adress = adress.replace('Auf Karte anzeigen','')\n",
    "        adress = adress.strip() \n",
    "        adressL.append(adress)\n",
    "    except:\n",
    "        adressL.append('NA')\n",
    "    #    print(url)\n",
    "    #    print('adress error')\n",
    "        \n",
    "def writezip():\n",
    "    try:\n",
    "        adress = (soup.find('p', class_=\"text-100 pull-left\").text)\n",
    "        adress = adress.replace('\\t','')\n",
    "        adress = adress.replace('\\n',' ')\n",
    "        adress = adress.replace('\\xa0','')\n",
    "        adress = adress.replace('Auf Karte anzeigen','')\n",
    "        adress = adress.strip() \n",
    "        zip_code = [int(s) for s in adress.split() if s.isdigit()]\n",
    "        zip_code = str(zip_code)\n",
    "        zip_codeL.append(zip_code)\n",
    "    except:\n",
    "        zip_codeL.append('NA')\n",
    "      #  print(url)\n",
    "      #  print('zip error')\n",
    "        \n",
    "def writepric():\n",
    "        try:  \n",
    "            price_cold = (soup.find('div', id=\"priceid_2\").text)\n",
    "            price_cold = price_cold.strip()\n",
    "            price_cold = price_cold.replace('\\xa0€','')\n",
    "            price_coldL.append(price_cold)\n",
    "        except:\n",
    "            price_coldL.append('NA')\n",
    "        #    print(url)\n",
    "        #    print('price cold error')\n",
    "            \n",
    "def writeyea():\n",
    "        try:  \n",
    "            yearbuild = (soup.find('div', id='yearbuild').text)\n",
    "            yearbuild = yearbuild.strip()\n",
    "            yearbuildL.append(yearbuild)\n",
    "        except:\n",
    "            yearbuildL.append('NA')\n",
    "         #   print(url)\n",
    "         #   print('yearbuild error')\n",
    "\n",
    "def writeare():\n",
    "        try:  \n",
    "            area = (soup.find('div', id='areaid_1').text)\n",
    "            area = area.strip()\n",
    "            area = area.replace('\\xa0m²','')\n",
    "            areaL.append(area)\n",
    "        except:\n",
    "            areaL.append('NA')\n",
    "         #   print(url)\n",
    "         #   print('area error')\n",
    "\n",
    "\n",
    "def writeroo():\n",
    "        try:  \n",
    "            rooms = (soup.find('div', id='equipmentid_1').text)\n",
    "            rooms = rooms.strip()\n",
    "            roomsL.append(rooms)\n",
    "        except:\n",
    "            roomsL.append('NA')\n",
    "           # print(url)\n",
    "       #     print('rooms error')\n",
    "            \n",
    "def writepriw():\n",
    "        try:  \n",
    "            price_warm = (soup.find('div', id='priceid_4').text)\n",
    "            price_warm = price_warm.strip()\n",
    "            price_warm = price_warm.replace('\\xa0€','')\n",
    "            price_warmL.append(price_warm)\n",
    "        except:\n",
    "            price_warmL.append('NaN')\n",
    "        #    print(url)\n",
    "        #    print('price warm error')"
   ]
  },
  {
   "cell_type": "markdown",
   "metadata": {},
   "source": [
    "# using a loop for the actual scraping, using predefined function to clear the data and store the data in predefined lists"
   ]
  },
  {
   "cell_type": "code",
   "execution_count": 34,
   "metadata": {},
   "outputs": [],
   "source": [
    "for url in full_list:\n",
    "    if requests.get(url).status_code==200:\n",
    "        soup = BeautifulSoup(requests.get(url).text,'html.parser')\n",
    "        objecturl.append(url)\n",
    "        writedes()\n",
    "        writeadr()\n",
    "        writezip()\n",
    "        writepric()\n",
    "        writepriw()\n",
    "        writeroo()\n",
    "        writeare()\n",
    "        writeyea()\n",
    "        \n",
    "    else:\n",
    "        continue"
   ]
  },
  {
   "cell_type": "markdown",
   "metadata": {},
   "source": [
    "# create an empty dataframe where the data will be stored later"
   ]
  },
  {
   "cell_type": "code",
   "execution_count": null,
   "metadata": {},
   "outputs": [],
   "source": [
    "columns = ['description_short','adress','zip_code','price_cold','price_warm','rooms','area','yearbuild']\n",
    "data = pd.DataFrame(columns=columns)"
   ]
  },
  {
   "cell_type": "markdown",
   "metadata": {},
   "source": [
    "# executing a few steps for striping the zip code from the adress information "
   ]
  },
  {
   "cell_type": "code",
   "execution_count": 84,
   "metadata": {},
   "outputs": [],
   "source": [
    "zip_code = zip_codeL.copy()"
   ]
  },
  {
   "cell_type": "code",
   "execution_count": 85,
   "metadata": {},
   "outputs": [],
   "source": [
    "zipc=[]\n",
    "for i in zip_code:\n",
    "    zipc.append(i[-6:-1])\n",
    "        \n"
   ]
  },
  {
   "cell_type": "markdown",
   "metadata": {},
   "source": [
    "# clearing the dataframe from any previous unsuccesful attemp of inputting data"
   ]
  },
  {
   "cell_type": "code",
   "execution_count": 94,
   "metadata": {},
   "outputs": [],
   "source": [
    "data = data.iloc[0:0]"
   ]
  },
  {
   "cell_type": "markdown",
   "metadata": {},
   "source": [
    "# transfer the data from the python lists into the dataframe"
   ]
  },
  {
   "cell_type": "code",
   "execution_count": 95,
   "metadata": {},
   "outputs": [],
   "source": [
    "\n",
    "zipped = zip(descriptionL, adressL, zipc, price_coldL, price_warmL, roomsL, areaL, yearbuildL,objecturl)\n",
    "for z in list(zipped):\n",
    "    data = data.append({'description_short':z[0],'adress':z[1],'zip_code':z[2],'price_cold':z[3],'price_warm':z[4],'rooms':z[5],'area':z[6],'yearbuild':z[7],'url':z[8]},ignore_index=True)"
   ]
  },
  {
   "cell_type": "markdown",
   "metadata": {},
   "source": [
    "# validation of the dataframe "
   ]
  },
  {
   "cell_type": "code",
   "execution_count": 96,
   "metadata": {},
   "outputs": [
    {
     "data": {
      "text/plain": [
       "1062"
      ]
     },
     "execution_count": 96,
     "metadata": {},
     "output_type": "execute_result"
    }
   ],
   "source": [
    "len(data)"
   ]
  },
  {
   "cell_type": "code",
   "execution_count": 97,
   "metadata": {},
   "outputs": [
    {
     "data": {
      "text/html": [
       "<div>\n",
       "<style scoped>\n",
       "    .dataframe tbody tr th:only-of-type {\n",
       "        vertical-align: middle;\n",
       "    }\n",
       "\n",
       "    .dataframe tbody tr th {\n",
       "        vertical-align: top;\n",
       "    }\n",
       "\n",
       "    .dataframe thead th {\n",
       "        text-align: right;\n",
       "    }\n",
       "</style>\n",
       "<table border=\"1\" class=\"dataframe\">\n",
       "  <thead>\n",
       "    <tr style=\"text-align: right;\">\n",
       "      <th></th>\n",
       "      <th>description_short</th>\n",
       "      <th>adress</th>\n",
       "      <th>zip_code</th>\n",
       "      <th>price_cold</th>\n",
       "      <th>price_warm</th>\n",
       "      <th>rooms</th>\n",
       "      <th>area</th>\n",
       "      <th>yearbuild</th>\n",
       "      <th>url</th>\n",
       "    </tr>\n",
       "  </thead>\n",
       "  <tbody>\n",
       "    <tr>\n",
       "      <th>0</th>\n",
       "      <td>2-Zimmer-Apartment in attraktivem Neubauprojek...</td>\n",
       "      <td>10785 Berlin</td>\n",
       "      <td>10785</td>\n",
       "      <td>1293.0</td>\n",
       "      <td>1499.5</td>\n",
       "      <td>2.0</td>\n",
       "      <td>58.77</td>\n",
       "      <td>2019</td>\n",
       "      <td>https://www.immonet.de/angebot/40783366</td>\n",
       "    </tr>\n",
       "    <tr>\n",
       "      <th>1</th>\n",
       "      <td>Lofts, gerade neu modernisiert und bezugsfrei,...</td>\n",
       "      <td>15711 Königs Wusterhausen</td>\n",
       "      <td>15711</td>\n",
       "      <td>876.18</td>\n",
       "      <td>NaN</td>\n",
       "      <td>1.0</td>\n",
       "      <td>83.82</td>\n",
       "      <td>1996</td>\n",
       "      <td>https://www.immonet.de/angebot/41357831</td>\n",
       "    </tr>\n",
       "    <tr>\n",
       "      <th>2</th>\n",
       "      <td>Hübsche 3-Zi-Whg mit Balkon u EBK - Erstbezug ...</td>\n",
       "      <td>10435 Berlin</td>\n",
       "      <td>10435</td>\n",
       "      <td>1500.0</td>\n",
       "      <td>1700.0</td>\n",
       "      <td>2.0</td>\n",
       "      <td>72.0</td>\n",
       "      <td>1918</td>\n",
       "      <td>https://www.immonet.de/angebot/41668426</td>\n",
       "    </tr>\n",
       "    <tr>\n",
       "      <th>3</th>\n",
       "      <td>Traumwohnung mit Blick auf den Yachthafen in W...</td>\n",
       "      <td>Zum Großen Zernsee 6f  14542 Werder</td>\n",
       "      <td>14542</td>\n",
       "      <td>1135.0</td>\n",
       "      <td>NaN</td>\n",
       "      <td>3.0</td>\n",
       "      <td>98.6</td>\n",
       "      <td>2013</td>\n",
       "      <td>https://www.immonet.de/angebot/41393149</td>\n",
       "    </tr>\n",
       "    <tr>\n",
       "      <th>4</th>\n",
       "      <td>Luxus Studio-Apartment</td>\n",
       "      <td>Unter den Eichen 101  12203 Berlin</td>\n",
       "      <td>12203</td>\n",
       "      <td>1200.0</td>\n",
       "      <td>1360.0</td>\n",
       "      <td>2.0</td>\n",
       "      <td>80.05</td>\n",
       "      <td>2018</td>\n",
       "      <td>https://www.immonet.de/angebot/41362590</td>\n",
       "    </tr>\n",
       "    <tr>\n",
       "      <th>...</th>\n",
       "      <td>...</td>\n",
       "      <td>...</td>\n",
       "      <td>...</td>\n",
       "      <td>...</td>\n",
       "      <td>...</td>\n",
       "      <td>...</td>\n",
       "      <td>...</td>\n",
       "      <td>...</td>\n",
       "      <td>...</td>\n",
       "    </tr>\n",
       "    <tr>\n",
       "      <th>1057</th>\n",
       "      <td>Seniorenfreundliche Zweizimmerwohnung mit Seeb...</td>\n",
       "      <td>Klosterstrasse 9a  15344 Strausberg</td>\n",
       "      <td>15344</td>\n",
       "      <td>638.55</td>\n",
       "      <td>743.04</td>\n",
       "      <td>2.0</td>\n",
       "      <td>58.05</td>\n",
       "      <td>1900</td>\n",
       "      <td>https://www.immonet.de/angebot/41611787</td>\n",
       "    </tr>\n",
       "    <tr>\n",
       "      <th>1058</th>\n",
       "      <td>schöne neu sanierte 2 Zimmer Wohnung in Friedr...</td>\n",
       "      <td>12587 Berlin</td>\n",
       "      <td>12587</td>\n",
       "      <td>606.0</td>\n",
       "      <td>NaN</td>\n",
       "      <td>2.0</td>\n",
       "      <td>62.38</td>\n",
       "      <td>1906</td>\n",
       "      <td>https://www.immonet.de/angebot/41641060</td>\n",
       "    </tr>\n",
       "    <tr>\n",
       "      <th>1059</th>\n",
       "      <td>3 Zimmer, frisch saniert, mit Balkon</td>\n",
       "      <td>Otto-Heese-Straße 17  14641 Nauen</td>\n",
       "      <td>14641</td>\n",
       "      <td>420.0</td>\n",
       "      <td>560.0</td>\n",
       "      <td>3.0</td>\n",
       "      <td>57.42</td>\n",
       "      <td>1978</td>\n",
       "      <td>https://www.immonet.de/angebot/41482964</td>\n",
       "    </tr>\n",
       "    <tr>\n",
       "      <th>1060</th>\n",
       "      <td>Vollmöblierte Komfort-Apartments im \"Urban Liv...</td>\n",
       "      <td>Balatonstr. 1/1a  10319 Berlin</td>\n",
       "      <td>10319</td>\n",
       "      <td>480.0</td>\n",
       "      <td>NaN</td>\n",
       "      <td>1.0</td>\n",
       "      <td>23.5</td>\n",
       "      <td>2018</td>\n",
       "      <td>https://www.immonet.de/angebot/41363118</td>\n",
       "    </tr>\n",
       "    <tr>\n",
       "      <th>1061</th>\n",
       "      <td>Rollstuhlgerecht - Smarte Wohnungen für smarte...</td>\n",
       "      <td>Konrad-Zuse-Straße 2  12489 Berlin</td>\n",
       "      <td>12489</td>\n",
       "      <td>562.05</td>\n",
       "      <td>NaN</td>\n",
       "      <td>1.0</td>\n",
       "      <td>37.47</td>\n",
       "      <td>2020</td>\n",
       "      <td>https://www.immonet.de/angebot/41565561</td>\n",
       "    </tr>\n",
       "  </tbody>\n",
       "</table>\n",
       "<p>1062 rows × 9 columns</p>\n",
       "</div>"
      ],
      "text/plain": [
       "                                      description_short  \\\n",
       "0     2-Zimmer-Apartment in attraktivem Neubauprojek...   \n",
       "1     Lofts, gerade neu modernisiert und bezugsfrei,...   \n",
       "2     Hübsche 3-Zi-Whg mit Balkon u EBK - Erstbezug ...   \n",
       "3     Traumwohnung mit Blick auf den Yachthafen in W...   \n",
       "4                                Luxus Studio-Apartment   \n",
       "...                                                 ...   \n",
       "1057  Seniorenfreundliche Zweizimmerwohnung mit Seeb...   \n",
       "1058  schöne neu sanierte 2 Zimmer Wohnung in Friedr...   \n",
       "1059               3 Zimmer, frisch saniert, mit Balkon   \n",
       "1060  Vollmöblierte Komfort-Apartments im \"Urban Liv...   \n",
       "1061  Rollstuhlgerecht - Smarte Wohnungen für smarte...   \n",
       "\n",
       "                                   adress zip_code price_cold price_warm  \\\n",
       "0                            10785 Berlin    10785     1293.0     1499.5   \n",
       "1               15711 Königs Wusterhausen    15711     876.18        NaN   \n",
       "2                            10435 Berlin    10435     1500.0     1700.0   \n",
       "3     Zum Großen Zernsee 6f  14542 Werder    14542     1135.0        NaN   \n",
       "4      Unter den Eichen 101  12203 Berlin    12203     1200.0     1360.0   \n",
       "...                                   ...      ...        ...        ...   \n",
       "1057  Klosterstrasse 9a  15344 Strausberg    15344     638.55     743.04   \n",
       "1058                         12587 Berlin    12587      606.0        NaN   \n",
       "1059    Otto-Heese-Straße 17  14641 Nauen    14641      420.0      560.0   \n",
       "1060       Balatonstr. 1/1a  10319 Berlin    10319      480.0        NaN   \n",
       "1061   Konrad-Zuse-Straße 2  12489 Berlin    12489     562.05        NaN   \n",
       "\n",
       "     rooms   area yearbuild                                      url  \n",
       "0      2.0  58.77      2019  https://www.immonet.de/angebot/40783366  \n",
       "1      1.0  83.82      1996  https://www.immonet.de/angebot/41357831  \n",
       "2      2.0   72.0      1918  https://www.immonet.de/angebot/41668426  \n",
       "3      3.0   98.6      2013  https://www.immonet.de/angebot/41393149  \n",
       "4      2.0  80.05      2018  https://www.immonet.de/angebot/41362590  \n",
       "...    ...    ...       ...                                      ...  \n",
       "1057   2.0  58.05      1900  https://www.immonet.de/angebot/41611787  \n",
       "1058   2.0  62.38      1906  https://www.immonet.de/angebot/41641060  \n",
       "1059   3.0  57.42      1978  https://www.immonet.de/angebot/41482964  \n",
       "1060   1.0   23.5      2018  https://www.immonet.de/angebot/41363118  \n",
       "1061   1.0  37.47      2020  https://www.immonet.de/angebot/41565561  \n",
       "\n",
       "[1062 rows x 9 columns]"
      ]
     },
     "execution_count": 97,
     "metadata": {},
     "output_type": "execute_result"
    }
   ],
   "source": [
    "data"
   ]
  },
  {
   "cell_type": "markdown",
   "metadata": {},
   "source": [
    "# export the dataframe to a csv file"
   ]
  },
  {
   "cell_type": "code",
   "execution_count": 98,
   "metadata": {},
   "outputs": [],
   "source": [
    "data.to_csv('data_with_zip.csv')"
   ]
  },
  {
   "cell_type": "code",
   "execution_count": null,
   "metadata": {},
   "outputs": [],
   "source": []
  }
 ],
 "metadata": {
  "kernelspec": {
   "display_name": "Python 3",
   "language": "python",
   "name": "python3"
  },
  "language_info": {
   "codemirror_mode": {
    "name": "ipython",
    "version": 3
   },
   "file_extension": ".py",
   "mimetype": "text/x-python",
   "name": "python",
   "nbconvert_exporter": "python",
   "pygments_lexer": "ipython3",
   "version": "3.8.5"
  }
 },
 "nbformat": 4,
 "nbformat_minor": 4
}
